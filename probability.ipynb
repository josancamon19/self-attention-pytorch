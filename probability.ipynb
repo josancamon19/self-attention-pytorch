{
 "cells": [
  {
   "cell_type": "markdown",
   "metadata": {},
   "source": [
    "4.2. Random Variables.\n",
    "\n",
    "4.3. Probability Distributions.\n",
    "\n",
    "4.4. Marginal Probability...\n",
    "\n",
    "4.5. Conditional Probability.…..\n",
    "\n",
    "4.6. The Chain Rule of Conditional Probabilities….\n",
    "\n",
    "4.7. Independence and Conditional Independence.\n",
    "\n",
    "4.8. Expectation, Variance and Covariance.\n",
    "\n",
    "4.9. Common Probability Distributions…\n",
    "\n",
    "4.10. Useful Propertics of Common Functions.\n",
    "\n",
    "4.11. Bayes' Rule...\n",
    "\n",
    "4.12. Technical Details of Continuous Variables.\n",
    "\n",
    "4.13. Information Theory.\n",
    "\n",
    "4.14. Structured Probabilistic Models.."
   ]
  },
  {
   "cell_type": "markdown",
   "metadata": {},
   "source": []
  }
 ],
 "metadata": {
  "language_info": {
   "name": "python"
  }
 },
 "nbformat": 4,
 "nbformat_minor": 2
}
