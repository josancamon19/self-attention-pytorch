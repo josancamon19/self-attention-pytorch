{
 "cells": [
  {
   "cell_type": "markdown",
   "metadata": {},
   "source": [
    "https://docs.pytorch.org/tutorials/beginner/blitz"
   ]
  },
  {
   "cell_type": "code",
   "execution_count": 1,
   "metadata": {},
   "outputs": [],
   "source": [
    "# Tensors are similar to NumPy’s ndarrays, except that tensors can run on GPUs or other specialized hardware\n",
    "import torch\n",
    "import numpy as np"
   ]
  },
  {
   "cell_type": "code",
   "execution_count": 16,
   "metadata": {},
   "outputs": [
    {
     "name": "stdout",
     "output_type": "stream",
     "text": [
      "Ones Tensor torch.Size([2, 2]) | torch.float32\n",
      "Tensor 2 torch.Size([2, 2]) | torch.bfloat16\n",
      "tensor([[0.8867, 0.3867],\n",
      "        [0.2461, 0.0781]], dtype=torch.bfloat16)\n",
      "------\n",
      "tensor([[1., 1., 1.],\n",
      "        [1., 1., 1.]])\n",
      "tensor([[0.5572, 0.0943, 0.7838],\n",
      "        [0.7851, 0.8742, 0.4796]])\n"
     ]
    }
   ],
   "source": [
    "# initializing tensors\n",
    "# 1. from array\n",
    "data = [[0, 2], [1, 3]]\n",
    "tensor = torch.Tensor(data)\n",
    "\n",
    "# 2. from numpy array\n",
    "data = np.array(data)\n",
    "tensor = torch.Tensor(data)\n",
    "\n",
    "# 3. from another tensor\n",
    "# - retains shape, datatype, unless overwritten\n",
    "tensor = torch.ones_like(tensor)\n",
    "print(f\"Ones Tensor {tensor.shape} | {tensor.dtype}\")\n",
    "\n",
    "tensor2 = torch.rand_like(tensor, dtype=torch.bfloat16)\n",
    "print(f\"Tensor 2 {tensor2.shape} | {tensor2.dtype}\")\n",
    "print(tensor2)\n",
    "\n",
    "# TODO: what are the different data types, f32?\n",
    "\n",
    "# 4. based on a shape, with random/const values\n",
    "print('------')\n",
    "\n",
    "shape = (2, 3)\n",
    "ones_tensor = torch.ones(shape)\n",
    "rand_tensor = torch.rand(shape)\n",
    "\n",
    "print(ones_tensor)\n",
    "print(rand_tensor)"
   ]
  },
  {
   "cell_type": "code",
   "execution_count": 17,
   "metadata": {},
   "outputs": [
    {
     "name": "stdout",
     "output_type": "stream",
     "text": [
      "torch.Size([2, 2]) torch.float32 cpu\n"
     ]
    }
   ],
   "source": [
    "# Attribuets\n",
    "print(tensor.shape, tensor.dtype, tensor.device)"
   ]
  },
  {
   "cell_type": "code",
   "execution_count": 18,
   "metadata": {},
   "outputs": [],
   "source": [
    "# Operations\n",
    "# Over 100, fuck\n",
    "# https://docs.pytorch.org/docs/stable/torch.html\n",
    "# transposing, indexing, slicing, math ops, lin alg, rand sampling, ....\n",
    "\n",
    "if torch.cuda.is_available():\n",
    "    tensor = tensor.to(\"cuda\") # moving a tensor to gpu"
   ]
  },
  {
   "cell_type": "code",
   "execution_count": null,
   "metadata": {},
   "outputs": [],
   "source": []
  }
 ],
 "metadata": {
  "kernelspec": {
   "display_name": "transformers",
   "language": "python",
   "name": "python3"
  },
  "language_info": {
   "codemirror_mode": {
    "name": "ipython",
    "version": 3
   },
   "file_extension": ".py",
   "mimetype": "text/x-python",
   "name": "python",
   "nbconvert_exporter": "python",
   "pygments_lexer": "ipython3",
   "version": "3.11.12"
  }
 },
 "nbformat": 4,
 "nbformat_minor": 2
}
