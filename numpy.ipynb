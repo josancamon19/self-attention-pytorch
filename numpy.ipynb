{
 "cells": [
  {
   "cell_type": "code",
   "execution_count": 1,
   "metadata": {},
   "outputs": [],
   "source": [
    "# https://numpy.org/devdocs/user/quickstart.html "
   ]
  },
  {
   "cell_type": "code",
   "execution_count": 2,
   "metadata": {},
   "outputs": [],
   "source": [
    "import numpy as np\n",
    "# manage multidimensional arrays properly on python"
   ]
  },
  {
   "cell_type": "code",
   "execution_count": 4,
   "metadata": {},
   "outputs": [],
   "source": [
    "# array class is .ndarray, alias is .array"
   ]
  },
  {
   "cell_type": "code",
   "execution_count": 25,
   "metadata": {},
   "outputs": [],
   "source": [
    "def details(arr: np.array):\n",
    "    print(\n",
    "        arr, \n",
    "        arr.shape, \n",
    "        arr.ndim, \n",
    "        arr.size, # total num of elements\n",
    "        arr.dtype, # items type\n",
    "        arr.itemsize, # size in bytes of each item\n",
    "        type(arr)\n",
    "    )"
   ]
  },
  {
   "cell_type": "code",
   "execution_count": 26,
   "metadata": {},
   "outputs": [
    {
     "name": "stdout",
     "output_type": "stream",
     "text": [
      "[1 2 3] (3,) 1 3 int64 8 <class 'numpy.ndarray'>\n"
     ]
    }
   ],
   "source": [
    "details(np.array([1,2,3]))"
   ]
  },
  {
   "cell_type": "code",
   "execution_count": 27,
   "metadata": {},
   "outputs": [
    {
     "name": "stdout",
     "output_type": "stream",
     "text": [
      "[1. 2. 3.] (3,) 1 3 float64 8 <class 'numpy.ndarray'>\n"
     ]
    }
   ],
   "source": [
    "details(np.array([1,2,3.0]))"
   ]
  },
  {
   "cell_type": "code",
   "execution_count": 28,
   "metadata": {},
   "outputs": [
    {
     "name": "stdout",
     "output_type": "stream",
     "text": [
      "['1' '2' '3.0' 's'] (4,) 1 4 <U32 128 <class 'numpy.ndarray'>\n"
     ]
    }
   ],
   "source": [
    "details(np.array([1,2,3.0, \"s\"]))"
   ]
  },
  {
   "cell_type": "code",
   "execution_count": 29,
   "metadata": {},
   "outputs": [
    {
     "ename": "ValueError",
     "evalue": "setting an array element with a sequence. The requested array has an inhomogeneous shape after 1 dimensions. The detected shape was (2,) + inhomogeneous part.",
     "output_type": "error",
     "traceback": [
      "\u001b[31m---------------------------------------------------------------------------\u001b[39m",
      "\u001b[31mValueError\u001b[39m                                Traceback (most recent call last)",
      "\u001b[36mCell\u001b[39m\u001b[36m \u001b[39m\u001b[32mIn[29]\u001b[39m\u001b[32m, line 1\u001b[39m\n\u001b[32m----> \u001b[39m\u001b[32m1\u001b[39m details(\u001b[43mnp\u001b[49m\u001b[43m.\u001b[49m\u001b[43marray\u001b[49m\u001b[43m(\u001b[49m\u001b[43m[\u001b[49m\u001b[43m[\u001b[49m\u001b[32;43m1\u001b[39;49m\u001b[43m,\u001b[49m\u001b[32;43m2\u001b[39;49m\u001b[43m,\u001b[49m\u001b[32;43m3.0\u001b[39;49m\u001b[43m]\u001b[49m\u001b[43m,\u001b[49m\u001b[43m \u001b[49m\u001b[43m[\u001b[49m\u001b[33;43m\"\u001b[39;49m\u001b[33;43ms\u001b[39;49m\u001b[33;43m\"\u001b[39;49m\u001b[43m]\u001b[49m\u001b[43m]\u001b[49m\u001b[43m)\u001b[49m)\n\u001b[32m      2\u001b[39m \u001b[38;5;66;03m# non homogenous dimensions\u001b[39;00m\n",
      "\u001b[31mValueError\u001b[39m: setting an array element with a sequence. The requested array has an inhomogeneous shape after 1 dimensions. The detected shape was (2,) + inhomogeneous part."
     ]
    }
   ],
   "source": [
    "details(np.array([[1,2,3.0], [\"s\"]]))\n",
    "# non homogenous dimensions"
   ]
  },
  {
   "cell_type": "code",
   "execution_count": 30,
   "metadata": {},
   "outputs": [
    {
     "name": "stdout",
     "output_type": "stream",
     "text": [
      "[['1' '2' '3.0']\n",
      " ['s' '2' '3']] (2, 3) 2 6 <U32 128 <class 'numpy.ndarray'>\n"
     ]
    }
   ],
   "source": [
    "details(np.array([[1,2,3.0], [\"s\",2, 3]]))"
   ]
  },
  {
   "cell_type": "code",
   "execution_count": 33,
   "metadata": {},
   "outputs": [
    {
     "name": "stdout",
     "output_type": "stream",
     "text": [
      "[1. 2. 3.] (3,) 1 3 float64 8 <class 'numpy.ndarray'>\n",
      "[1.+0.j 2.+0.j 3.+0.j] (3,) 1 3 complex128 16 <class 'numpy.ndarray'>\n"
     ]
    }
   ],
   "source": [
    "# Creating an array\n",
    "\n",
    "# from a list\n",
    "arr1= np.array([1,2,3])\n",
    "arr2 = np.array([1,2,3], dtype=float) # set type when creating\n",
    "arr3 = np.array([1,2,3], dtype=complex)\n",
    "details(arr2)\n",
    "details(arr3)"
   ]
  },
  {
   "cell_type": "code",
   "execution_count": 34,
   "metadata": {},
   "outputs": [
    {
     "data": {
      "text/plain": [
       "array([[0., 0., 0., 0.],\n",
       "       [0., 0., 0., 0.],\n",
       "       [0., 0., 0., 0.]])"
      ]
     },
     "execution_count": 34,
     "metadata": {},
     "output_type": "execute_result"
    }
   ],
   "source": [
    "# from zeros\n",
    "\n",
    "np.zeros((3,4)) # receives a shape as input"
   ]
  },
  {
   "cell_type": "code",
   "execution_count": 37,
   "metadata": {},
   "outputs": [
    {
     "name": "stdout",
     "output_type": "stream",
     "text": [
      "[[[1. 1. 1. 1.]\n",
      "  [1. 1. 1. 1.]\n",
      "  [1. 1. 1. 1.]]\n",
      "\n",
      " [[1. 1. 1. 1.]\n",
      "  [1. 1. 1. 1.]\n",
      "  [1. 1. 1. 1.]]] (2, 3, 4) 3 24 float16 2 <class 'numpy.ndarray'>\n"
     ]
    }
   ],
   "source": [
    "details(np.ones((2,3,4), dtype=np.float16))"
   ]
  },
  {
   "cell_type": "code",
   "execution_count": 40,
   "metadata": {},
   "outputs": [
    {
     "name": "stdout",
     "output_type": "stream",
     "text": [
      "[[[1. 1. 1. 1.]\n",
      "  [1. 1. 1. 1.]\n",
      "  [1. 1. 1. 1.]]\n",
      "\n",
      " [[1. 1. 1. 1.]\n",
      "  [1. 1. 1. 1.]\n",
      "  [1. 1. 1. 1.]]] (2, 3, 4) 3 24 float16 2 <class 'numpy.ndarray'>\n"
     ]
    }
   ],
   "source": [
    "# this one shows like values, but actually no val init happened, faster.\n",
    "details(np.empty((2,3,4), dtype=np.float16))"
   ]
  },
  {
   "cell_type": "code",
   "execution_count": 48,
   "metadata": {},
   "outputs": [
    {
     "name": "stdout",
     "output_type": "stream",
     "text": [
      "[10 15 20 25]\n",
      "[0.1  0.35 0.6  0.85 1.1  1.35 1.6  1.85]\n",
      "[0.  0.5 1.  1.5 2. ]\n"
     ]
    }
   ],
   "source": [
    "# sequences of numbers, np.arange, like python range\n",
    "print(np.arange(10, 30, 5)) # same as range()\n",
    "print(np.arange(0.1, 2, 0.25)) # floats\n",
    "\n",
    "# arange with floats, \"not possible to predict element num\", use linspace instead, hmmm, wtf?\n",
    "print(np.linspace(0, 2, 5)) # from, to, how many items in between\n"
   ]
  },
  {
   "cell_type": "code",
   "execution_count": 56,
   "metadata": {},
   "outputs": [
    {
     "name": "stdout",
     "output_type": "stream",
     "text": [
      "[[[0. 0. 0.]\n",
      "  [0. 0. 0.]]]\n",
      "-----\n",
      "[[[1. 1. 1.]\n",
      "  [1. 1. 1.]]\n",
      "\n",
      " [[1. 1. 1.]\n",
      "  [1. 1. 1.]]]\n"
     ]
    }
   ],
   "source": [
    "# printing arrays\n",
    "# - last axis from left to right\n",
    "# - second to last, top to bottom\n",
    "# - rest als top to bottom\n",
    "\n",
    "print(np.zeros((1, 2, 3)))\n",
    "print(\"-----\")\n",
    "print(np.ones((2, 2, 3)))"
   ]
  },
  {
   "cell_type": "code",
   "execution_count": 64,
   "metadata": {},
   "outputs": [
    {
     "name": "stdout",
     "output_type": "stream",
     "text": [
      "[  2   5   8  11  14  17  20  23  26  29  32  35  38  41  44  47  50  53\n",
      "  56  59  62  65  68  71  74  77  80  83  86  89  92  95  98 101 104 107] (36,) 1 36 int64 8 <class 'numpy.ndarray'>\n"
     ]
    }
   ],
   "source": [
    "# init with arange and reshape\n",
    "arr = np.arange(2, 110, 3)\n",
    "details(arr)"
   ]
  },
  {
   "cell_type": "code",
   "execution_count": 66,
   "metadata": {},
   "outputs": [
    {
     "ename": "ValueError",
     "evalue": "cannot reshape array of size 36 into shape (6,5)",
     "output_type": "error",
     "traceback": [
      "\u001b[31m---------------------------------------------------------------------------\u001b[39m",
      "\u001b[31mValueError\u001b[39m                                Traceback (most recent call last)",
      "\u001b[36mCell\u001b[39m\u001b[36m \u001b[39m\u001b[32mIn[66]\u001b[39m\u001b[32m, line 1\u001b[39m\n\u001b[32m----> \u001b[39m\u001b[32m1\u001b[39m \u001b[43marr\u001b[49m\u001b[43m.\u001b[49m\u001b[43mreshape\u001b[49m\u001b[43m(\u001b[49m\u001b[32;43m6\u001b[39;49m\u001b[43m,\u001b[49m\u001b[32;43m5\u001b[39;49m\u001b[43m)\u001b[49m \u001b[38;5;66;03m# 36 items, how to reshape\u001b[39;00m\n",
      "\u001b[31mValueError\u001b[39m: cannot reshape array of size 36 into shape (6,5)"
     ]
    }
   ],
   "source": [
    "arr.reshape(6,5) # 36 items, how to reshape"
   ]
  },
  {
   "cell_type": "code",
   "execution_count": 67,
   "metadata": {},
   "outputs": [
    {
     "name": "stdout",
     "output_type": "stream",
     "text": [
      "[[  2   5   8  11  14  17]\n",
      " [ 20  23  26  29  32  35]\n",
      " [ 38  41  44  47  50  53]\n",
      " [ 56  59  62  65  68  71]\n",
      " [ 74  77  80  83  86  89]\n",
      " [ 92  95  98 101 104 107]]\n",
      "[[[  2   5]\n",
      "  [  8  11]\n",
      "  [ 14  17]]\n",
      "\n",
      " [[ 20  23]\n",
      "  [ 26  29]\n",
      "  [ 32  35]]\n",
      "\n",
      " [[ 38  41]\n",
      "  [ 44  47]\n",
      "  [ 50  53]]\n",
      "\n",
      " [[ 56  59]\n",
      "  [ 62  65]\n",
      "  [ 68  71]]\n",
      "\n",
      " [[ 74  77]\n",
      "  [ 80  83]\n",
      "  [ 86  89]]\n",
      "\n",
      " [[ 92  95]\n",
      "  [ 98 101]\n",
      "  [104 107]]]\n"
     ]
    }
   ],
   "source": [
    "print(arr.reshape(6,6))\n",
    "print(arr.reshape(6,3,2))"
   ]
  },
  {
   "cell_type": "code",
   "execution_count": null,
   "metadata": {},
   "outputs": [],
   "source": []
  }
 ],
 "metadata": {
  "kernelspec": {
   "display_name": "transformers",
   "language": "python",
   "name": "python3"
  },
  "language_info": {
   "codemirror_mode": {
    "name": "ipython",
    "version": 3
   },
   "file_extension": ".py",
   "mimetype": "text/x-python",
   "name": "python",
   "nbconvert_exporter": "python",
   "pygments_lexer": "ipython3",
   "version": "3.11.12"
  }
 },
 "nbformat": 4,
 "nbformat_minor": 2
}
